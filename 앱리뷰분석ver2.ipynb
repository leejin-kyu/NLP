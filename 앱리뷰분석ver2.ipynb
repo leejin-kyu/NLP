{
  "nbformat": 4,
  "nbformat_minor": 0,
  "metadata": {
    "colab": {
      "provenance": []
    },
    "kernelspec": {
      "name": "python3",
      "display_name": "Python 3"
    },
    "language_info": {
      "name": "python"
    }
  },
  "cells": [
    {
      "cell_type": "code",
      "execution_count": null,
      "metadata": {
        "colab": {
          "base_uri": "https://localhost:8080/"
        },
        "id": "980yt21ABDR5",
        "outputId": "7527efa7-bfa6-479f-e11f-772316914708"
      },
      "outputs": [
        {
          "output_type": "stream",
          "name": "stdout",
          "text": [
            "Looking in indexes: https://pypi.org/simple, https://us-python.pkg.dev/colab-wheels/public/simple/\n",
            "Requirement already satisfied: konlpy in /usr/local/lib/python3.10/dist-packages (0.6.0)\n",
            "Requirement already satisfied: JPype1>=0.7.0 in /usr/local/lib/python3.10/dist-packages (from konlpy) (1.4.1)\n",
            "Requirement already satisfied: lxml>=4.1.0 in /usr/local/lib/python3.10/dist-packages (from konlpy) (4.9.2)\n",
            "Requirement already satisfied: numpy>=1.6 in /usr/local/lib/python3.10/dist-packages (from konlpy) (1.22.4)\n",
            "Requirement already satisfied: packaging in /usr/local/lib/python3.10/dist-packages (from JPype1>=0.7.0->konlpy) (23.1)\n"
          ]
        }
      ],
      "source": [
        "# konlpy 패키지 설치\n",
        "!pip install konlpy"
      ]
    },
    {
      "cell_type": "code",
      "source": [
        "# 필요한 패키지들을 임포트\n",
        "import pandas as pd\n",
        "from konlpy.tag import Okt"
      ],
      "metadata": {
        "id": "LmMtBoXwBFl9"
      },
      "execution_count": null,
      "outputs": []
    },
    {
      "cell_type": "code",
      "source": [
        "okt = Okt()\n"
      ],
      "metadata": {
        "id": "3q4O9PeoCrHt"
      },
      "execution_count": null,
      "outputs": []
    },
    {
      "cell_type": "code",
      "source": [
        "# 데이터셋의 상위 10개 샘플 출력\n",
        "reviews_df = pd.read_csv('https://raw.githubusercontent.com/leejin-kyu/logistic_sentiment/main/dataset.csv',encoding='cp949')"
      ],
      "metadata": {
        "id": "iTqw6PE-BGlh"
      },
      "execution_count": null,
      "outputs": []
    },
    {
      "cell_type": "code",
      "source": [
        "reviews_df.head(10)"
      ],
      "metadata": {
        "colab": {
          "base_uri": "https://localhost:8080/",
          "height": 363
        },
        "id": "hLN9ugmGBH79",
        "outputId": "4b698869-a288-4fb2-86ae-f7788ee65a32"
      },
      "execution_count": null,
      "outputs": [
        {
          "output_type": "execute_result",
          "data": {
            "text/plain": [
              "   Unnamed: 0                                            content  score  \\\n",
              "0           1                             야놀자 믿고 가는거야~떠나보는거야~~^^      5   \n",
              "1           2                                                좋아요      5   \n",
              "2           3                                              감사합니다      5   \n",
              "3           4                                         초초초쵸특가야놀쟈!      5   \n",
              "4           5                                                  굿      5   \n",
              "5           6  테마샾에 이런 앱 광고해서 깔라고 하는거 고쳐주엇음 하네요 예쁜 테마 까려다가 이런...      1   \n",
              "6           7                              빠른 예약 및 결재도 간편해서 좋아요.      5   \n",
              "7           8                                                좋아요      5   \n",
              "8           9                                      중요한순간잘이용했습니다.      5   \n",
              "9          10                                                좋아요      5   \n",
              "\n",
              "         time  \n",
              "0  2017-04-29  \n",
              "1  2019-05-21  \n",
              "2  2018-02-27  \n",
              "3  2018-08-03  \n",
              "4  2016-07-09  \n",
              "5  2017-07-16  \n",
              "6  2017-05-07  \n",
              "7  2019-10-24  \n",
              "8  2018-08-20  \n",
              "9  2019-11-29  "
            ],
            "text/html": [
              "\n",
              "  <div id=\"df-850ddbef-f241-453b-bd76-628404c14994\">\n",
              "    <div class=\"colab-df-container\">\n",
              "      <div>\n",
              "<style scoped>\n",
              "    .dataframe tbody tr th:only-of-type {\n",
              "        vertical-align: middle;\n",
              "    }\n",
              "\n",
              "    .dataframe tbody tr th {\n",
              "        vertical-align: top;\n",
              "    }\n",
              "\n",
              "    .dataframe thead th {\n",
              "        text-align: right;\n",
              "    }\n",
              "</style>\n",
              "<table border=\"1\" class=\"dataframe\">\n",
              "  <thead>\n",
              "    <tr style=\"text-align: right;\">\n",
              "      <th></th>\n",
              "      <th>Unnamed: 0</th>\n",
              "      <th>content</th>\n",
              "      <th>score</th>\n",
              "      <th>time</th>\n",
              "    </tr>\n",
              "  </thead>\n",
              "  <tbody>\n",
              "    <tr>\n",
              "      <th>0</th>\n",
              "      <td>1</td>\n",
              "      <td>야놀자 믿고 가는거야~떠나보는거야~~^^</td>\n",
              "      <td>5</td>\n",
              "      <td>2017-04-29</td>\n",
              "    </tr>\n",
              "    <tr>\n",
              "      <th>1</th>\n",
              "      <td>2</td>\n",
              "      <td>좋아요</td>\n",
              "      <td>5</td>\n",
              "      <td>2019-05-21</td>\n",
              "    </tr>\n",
              "    <tr>\n",
              "      <th>2</th>\n",
              "      <td>3</td>\n",
              "      <td>감사합니다</td>\n",
              "      <td>5</td>\n",
              "      <td>2018-02-27</td>\n",
              "    </tr>\n",
              "    <tr>\n",
              "      <th>3</th>\n",
              "      <td>4</td>\n",
              "      <td>초초초쵸특가야놀쟈!</td>\n",
              "      <td>5</td>\n",
              "      <td>2018-08-03</td>\n",
              "    </tr>\n",
              "    <tr>\n",
              "      <th>4</th>\n",
              "      <td>5</td>\n",
              "      <td>굿</td>\n",
              "      <td>5</td>\n",
              "      <td>2016-07-09</td>\n",
              "    </tr>\n",
              "    <tr>\n",
              "      <th>5</th>\n",
              "      <td>6</td>\n",
              "      <td>테마샾에 이런 앱 광고해서 깔라고 하는거 고쳐주엇음 하네요 예쁜 테마 까려다가 이런...</td>\n",
              "      <td>1</td>\n",
              "      <td>2017-07-16</td>\n",
              "    </tr>\n",
              "    <tr>\n",
              "      <th>6</th>\n",
              "      <td>7</td>\n",
              "      <td>빠른 예약 및 결재도 간편해서 좋아요.</td>\n",
              "      <td>5</td>\n",
              "      <td>2017-05-07</td>\n",
              "    </tr>\n",
              "    <tr>\n",
              "      <th>7</th>\n",
              "      <td>8</td>\n",
              "      <td>좋아요</td>\n",
              "      <td>5</td>\n",
              "      <td>2019-10-24</td>\n",
              "    </tr>\n",
              "    <tr>\n",
              "      <th>8</th>\n",
              "      <td>9</td>\n",
              "      <td>중요한순간잘이용했습니다.</td>\n",
              "      <td>5</td>\n",
              "      <td>2018-08-20</td>\n",
              "    </tr>\n",
              "    <tr>\n",
              "      <th>9</th>\n",
              "      <td>10</td>\n",
              "      <td>좋아요</td>\n",
              "      <td>5</td>\n",
              "      <td>2019-11-29</td>\n",
              "    </tr>\n",
              "  </tbody>\n",
              "</table>\n",
              "</div>\n",
              "      <button class=\"colab-df-convert\" onclick=\"convertToInteractive('df-850ddbef-f241-453b-bd76-628404c14994')\"\n",
              "              title=\"Convert this dataframe to an interactive table.\"\n",
              "              style=\"display:none;\">\n",
              "        \n",
              "  <svg xmlns=\"http://www.w3.org/2000/svg\" height=\"24px\"viewBox=\"0 0 24 24\"\n",
              "       width=\"24px\">\n",
              "    <path d=\"M0 0h24v24H0V0z\" fill=\"none\"/>\n",
              "    <path d=\"M18.56 5.44l.94 2.06.94-2.06 2.06-.94-2.06-.94-.94-2.06-.94 2.06-2.06.94zm-11 1L8.5 8.5l.94-2.06 2.06-.94-2.06-.94L8.5 2.5l-.94 2.06-2.06.94zm10 10l.94 2.06.94-2.06 2.06-.94-2.06-.94-.94-2.06-.94 2.06-2.06.94z\"/><path d=\"M17.41 7.96l-1.37-1.37c-.4-.4-.92-.59-1.43-.59-.52 0-1.04.2-1.43.59L10.3 9.45l-7.72 7.72c-.78.78-.78 2.05 0 2.83L4 21.41c.39.39.9.59 1.41.59.51 0 1.02-.2 1.41-.59l7.78-7.78 2.81-2.81c.8-.78.8-2.07 0-2.86zM5.41 20L4 18.59l7.72-7.72 1.47 1.35L5.41 20z\"/>\n",
              "  </svg>\n",
              "      </button>\n",
              "      \n",
              "  <style>\n",
              "    .colab-df-container {\n",
              "      display:flex;\n",
              "      flex-wrap:wrap;\n",
              "      gap: 12px;\n",
              "    }\n",
              "\n",
              "    .colab-df-convert {\n",
              "      background-color: #E8F0FE;\n",
              "      border: none;\n",
              "      border-radius: 50%;\n",
              "      cursor: pointer;\n",
              "      display: none;\n",
              "      fill: #1967D2;\n",
              "      height: 32px;\n",
              "      padding: 0 0 0 0;\n",
              "      width: 32px;\n",
              "    }\n",
              "\n",
              "    .colab-df-convert:hover {\n",
              "      background-color: #E2EBFA;\n",
              "      box-shadow: 0px 1px 2px rgba(60, 64, 67, 0.3), 0px 1px 3px 1px rgba(60, 64, 67, 0.15);\n",
              "      fill: #174EA6;\n",
              "    }\n",
              "\n",
              "    [theme=dark] .colab-df-convert {\n",
              "      background-color: #3B4455;\n",
              "      fill: #D2E3FC;\n",
              "    }\n",
              "\n",
              "    [theme=dark] .colab-df-convert:hover {\n",
              "      background-color: #434B5C;\n",
              "      box-shadow: 0px 1px 3px 1px rgba(0, 0, 0, 0.15);\n",
              "      filter: drop-shadow(0px 1px 2px rgba(0, 0, 0, 0.3));\n",
              "      fill: #FFFFFF;\n",
              "    }\n",
              "  </style>\n",
              "\n",
              "      <script>\n",
              "        const buttonEl =\n",
              "          document.querySelector('#df-850ddbef-f241-453b-bd76-628404c14994 button.colab-df-convert');\n",
              "        buttonEl.style.display =\n",
              "          google.colab.kernel.accessAllowed ? 'block' : 'none';\n",
              "\n",
              "        async function convertToInteractive(key) {\n",
              "          const element = document.querySelector('#df-850ddbef-f241-453b-bd76-628404c14994');\n",
              "          const dataTable =\n",
              "            await google.colab.kernel.invokeFunction('convertToInteractive',\n",
              "                                                     [key], {});\n",
              "          if (!dataTable) return;\n",
              "\n",
              "          const docLinkHtml = 'Like what you see? Visit the ' +\n",
              "            '<a target=\"_blank\" href=https://colab.research.google.com/notebooks/data_table.ipynb>data table notebook</a>'\n",
              "            + ' to learn more about interactive tables.';\n",
              "          element.innerHTML = '';\n",
              "          dataTable['output_type'] = 'display_data';\n",
              "          await google.colab.output.renderOutput(dataTable, element);\n",
              "          const docLink = document.createElement('div');\n",
              "          docLink.innerHTML = docLinkHtml;\n",
              "          element.appendChild(docLink);\n",
              "        }\n",
              "      </script>\n",
              "    </div>\n",
              "  </div>\n",
              "  "
            ]
          },
          "metadata": {},
          "execution_count": 68
        }
      ]
    },
    {
      "cell_type": "code",
      "source": [
        "reviews_df = reviews_df.drop('Unnamed: 0', axis=1)\n",
        "reviews_df.head(10)"
      ],
      "metadata": {
        "colab": {
          "base_uri": "https://localhost:8080/",
          "height": 363
        },
        "id": "QMXz5457BJAH",
        "outputId": "41e2876a-3b38-4a79-db28-d811a720ae85"
      },
      "execution_count": null,
      "outputs": [
        {
          "output_type": "execute_result",
          "data": {
            "text/plain": [
              "                                             content  score        time\n",
              "0                             야놀자 믿고 가는거야~떠나보는거야~~^^      5  2017-04-29\n",
              "1                                                좋아요      5  2019-05-21\n",
              "2                                              감사합니다      5  2018-02-27\n",
              "3                                         초초초쵸특가야놀쟈!      5  2018-08-03\n",
              "4                                                  굿      5  2016-07-09\n",
              "5  테마샾에 이런 앱 광고해서 깔라고 하는거 고쳐주엇음 하네요 예쁜 테마 까려다가 이런...      1  2017-07-16\n",
              "6                              빠른 예약 및 결재도 간편해서 좋아요.      5  2017-05-07\n",
              "7                                                좋아요      5  2019-10-24\n",
              "8                                      중요한순간잘이용했습니다.      5  2018-08-20\n",
              "9                                                좋아요      5  2019-11-29"
            ],
            "text/html": [
              "\n",
              "  <div id=\"df-93baac77-8ca7-484e-aebe-61b71ba554fc\">\n",
              "    <div class=\"colab-df-container\">\n",
              "      <div>\n",
              "<style scoped>\n",
              "    .dataframe tbody tr th:only-of-type {\n",
              "        vertical-align: middle;\n",
              "    }\n",
              "\n",
              "    .dataframe tbody tr th {\n",
              "        vertical-align: top;\n",
              "    }\n",
              "\n",
              "    .dataframe thead th {\n",
              "        text-align: right;\n",
              "    }\n",
              "</style>\n",
              "<table border=\"1\" class=\"dataframe\">\n",
              "  <thead>\n",
              "    <tr style=\"text-align: right;\">\n",
              "      <th></th>\n",
              "      <th>content</th>\n",
              "      <th>score</th>\n",
              "      <th>time</th>\n",
              "    </tr>\n",
              "  </thead>\n",
              "  <tbody>\n",
              "    <tr>\n",
              "      <th>0</th>\n",
              "      <td>야놀자 믿고 가는거야~떠나보는거야~~^^</td>\n",
              "      <td>5</td>\n",
              "      <td>2017-04-29</td>\n",
              "    </tr>\n",
              "    <tr>\n",
              "      <th>1</th>\n",
              "      <td>좋아요</td>\n",
              "      <td>5</td>\n",
              "      <td>2019-05-21</td>\n",
              "    </tr>\n",
              "    <tr>\n",
              "      <th>2</th>\n",
              "      <td>감사합니다</td>\n",
              "      <td>5</td>\n",
              "      <td>2018-02-27</td>\n",
              "    </tr>\n",
              "    <tr>\n",
              "      <th>3</th>\n",
              "      <td>초초초쵸특가야놀쟈!</td>\n",
              "      <td>5</td>\n",
              "      <td>2018-08-03</td>\n",
              "    </tr>\n",
              "    <tr>\n",
              "      <th>4</th>\n",
              "      <td>굿</td>\n",
              "      <td>5</td>\n",
              "      <td>2016-07-09</td>\n",
              "    </tr>\n",
              "    <tr>\n",
              "      <th>5</th>\n",
              "      <td>테마샾에 이런 앱 광고해서 깔라고 하는거 고쳐주엇음 하네요 예쁜 테마 까려다가 이런...</td>\n",
              "      <td>1</td>\n",
              "      <td>2017-07-16</td>\n",
              "    </tr>\n",
              "    <tr>\n",
              "      <th>6</th>\n",
              "      <td>빠른 예약 및 결재도 간편해서 좋아요.</td>\n",
              "      <td>5</td>\n",
              "      <td>2017-05-07</td>\n",
              "    </tr>\n",
              "    <tr>\n",
              "      <th>7</th>\n",
              "      <td>좋아요</td>\n",
              "      <td>5</td>\n",
              "      <td>2019-10-24</td>\n",
              "    </tr>\n",
              "    <tr>\n",
              "      <th>8</th>\n",
              "      <td>중요한순간잘이용했습니다.</td>\n",
              "      <td>5</td>\n",
              "      <td>2018-08-20</td>\n",
              "    </tr>\n",
              "    <tr>\n",
              "      <th>9</th>\n",
              "      <td>좋아요</td>\n",
              "      <td>5</td>\n",
              "      <td>2019-11-29</td>\n",
              "    </tr>\n",
              "  </tbody>\n",
              "</table>\n",
              "</div>\n",
              "      <button class=\"colab-df-convert\" onclick=\"convertToInteractive('df-93baac77-8ca7-484e-aebe-61b71ba554fc')\"\n",
              "              title=\"Convert this dataframe to an interactive table.\"\n",
              "              style=\"display:none;\">\n",
              "        \n",
              "  <svg xmlns=\"http://www.w3.org/2000/svg\" height=\"24px\"viewBox=\"0 0 24 24\"\n",
              "       width=\"24px\">\n",
              "    <path d=\"M0 0h24v24H0V0z\" fill=\"none\"/>\n",
              "    <path d=\"M18.56 5.44l.94 2.06.94-2.06 2.06-.94-2.06-.94-.94-2.06-.94 2.06-2.06.94zm-11 1L8.5 8.5l.94-2.06 2.06-.94-2.06-.94L8.5 2.5l-.94 2.06-2.06.94zm10 10l.94 2.06.94-2.06 2.06-.94-2.06-.94-.94-2.06-.94 2.06-2.06.94z\"/><path d=\"M17.41 7.96l-1.37-1.37c-.4-.4-.92-.59-1.43-.59-.52 0-1.04.2-1.43.59L10.3 9.45l-7.72 7.72c-.78.78-.78 2.05 0 2.83L4 21.41c.39.39.9.59 1.41.59.51 0 1.02-.2 1.41-.59l7.78-7.78 2.81-2.81c.8-.78.8-2.07 0-2.86zM5.41 20L4 18.59l7.72-7.72 1.47 1.35L5.41 20z\"/>\n",
              "  </svg>\n",
              "      </button>\n",
              "      \n",
              "  <style>\n",
              "    .colab-df-container {\n",
              "      display:flex;\n",
              "      flex-wrap:wrap;\n",
              "      gap: 12px;\n",
              "    }\n",
              "\n",
              "    .colab-df-convert {\n",
              "      background-color: #E8F0FE;\n",
              "      border: none;\n",
              "      border-radius: 50%;\n",
              "      cursor: pointer;\n",
              "      display: none;\n",
              "      fill: #1967D2;\n",
              "      height: 32px;\n",
              "      padding: 0 0 0 0;\n",
              "      width: 32px;\n",
              "    }\n",
              "\n",
              "    .colab-df-convert:hover {\n",
              "      background-color: #E2EBFA;\n",
              "      box-shadow: 0px 1px 2px rgba(60, 64, 67, 0.3), 0px 1px 3px 1px rgba(60, 64, 67, 0.15);\n",
              "      fill: #174EA6;\n",
              "    }\n",
              "\n",
              "    [theme=dark] .colab-df-convert {\n",
              "      background-color: #3B4455;\n",
              "      fill: #D2E3FC;\n",
              "    }\n",
              "\n",
              "    [theme=dark] .colab-df-convert:hover {\n",
              "      background-color: #434B5C;\n",
              "      box-shadow: 0px 1px 3px 1px rgba(0, 0, 0, 0.15);\n",
              "      filter: drop-shadow(0px 1px 2px rgba(0, 0, 0, 0.3));\n",
              "      fill: #FFFFFF;\n",
              "    }\n",
              "  </style>\n",
              "\n",
              "      <script>\n",
              "        const buttonEl =\n",
              "          document.querySelector('#df-93baac77-8ca7-484e-aebe-61b71ba554fc button.colab-df-convert');\n",
              "        buttonEl.style.display =\n",
              "          google.colab.kernel.accessAllowed ? 'block' : 'none';\n",
              "\n",
              "        async function convertToInteractive(key) {\n",
              "          const element = document.querySelector('#df-93baac77-8ca7-484e-aebe-61b71ba554fc');\n",
              "          const dataTable =\n",
              "            await google.colab.kernel.invokeFunction('convertToInteractive',\n",
              "                                                     [key], {});\n",
              "          if (!dataTable) return;\n",
              "\n",
              "          const docLinkHtml = 'Like what you see? Visit the ' +\n",
              "            '<a target=\"_blank\" href=https://colab.research.google.com/notebooks/data_table.ipynb>data table notebook</a>'\n",
              "            + ' to learn more about interactive tables.';\n",
              "          element.innerHTML = '';\n",
              "          dataTable['output_type'] = 'display_data';\n",
              "          await google.colab.output.renderOutput(dataTable, element);\n",
              "          const docLink = document.createElement('div');\n",
              "          docLink.innerHTML = docLinkHtml;\n",
              "          element.appendChild(docLink);\n",
              "        }\n",
              "      </script>\n",
              "    </div>\n",
              "  </div>\n",
              "  "
            ]
          },
          "metadata": {},
          "execution_count": 69
        }
      ]
    },
    {
      "cell_type": "code",
      "source": [
        "def tokenizer(text):\n",
        "    morph = okt.pos(text)  # 품사정보를 추출해서 morph에 저장\n",
        "    words = []  # 형태소 분석 후 저장될 리스트 변수\n",
        "    for word, tag in morph:  # 품사정보가 ('A','B') 형태로 들어온다고 가정\n",
        "        if tag in ['Adjective']:  # 명사,  형용사, 부사, 동사 품사 선택 'Noun', 'Adjective', 'Adverb', 'Verb'\n",
        "            if len(word) > 1:\n",
        "                words.append(word)\n",
        "    return words"
      ],
      "metadata": {
        "id": "IJ-_RDK7BRIj"
      },
      "execution_count": null,
      "outputs": []
    },
    {
      "cell_type": "code",
      "source": [
        "reviews_df= reviews_df.astype('str') #astype은 자료형 변환 함수, 전처리에 용이하게 str로 변환"
      ],
      "metadata": {
        "id": "DB7mdlSCBSiJ"
      },
      "execution_count": null,
      "outputs": []
    },
    {
      "cell_type": "code",
      "source": [
        "reviews_df['content'] = reviews_df['content'].apply(tokenizer) # data의 total 컬럼에 형태소 추출함수인 tokenizer함수를 적용함"
      ],
      "metadata": {
        "id": "esmalUnbBT4-"
      },
      "execution_count": null,
      "outputs": []
    },
    {
      "cell_type": "code",
      "source": [
        "stop_words = ['해서', '하지', '하는']  # 불용어 리스트\n",
        "def remove_stopwords(text):\n",
        "    for stop_word in stop_words:  # 불용어 리스트의 각 단어에 대해 반복\n",
        "        text = text.replace(stop_word, '')  # 텍스트 내의 해당 불용어를 빈 문자열로 대체\n",
        "    return text\n",
        "\n",
        "reviews_df['content'] = reviews_df['content'].apply(remove_stopwords)"
      ],
      "metadata": {
        "id": "ZVObgdQxGzIQ"
      },
      "execution_count": null,
      "outputs": []
    },
    {
      "cell_type": "code",
      "source": [
        "reviews_df = reviews_df[reviews_df['score'] == '1']  # score 칼럼이 1인 데이터만 필터링\n"
      ],
      "metadata": {
        "id": "hBa9VgKeF-5N"
      },
      "execution_count": null,
      "outputs": []
    },
    {
      "cell_type": "code",
      "source": [
        "reviews_df= reviews_df.astype('str') #astype은 자료형 변환 함수, 전처리에 용이하게 str로 변환"
      ],
      "metadata": {
        "id": "ea4oxCwFBXwQ"
      },
      "execution_count": null,
      "outputs": []
    },
    {
      "cell_type": "code",
      "source": [
        "#빈도도\n",
        "from sklearn.feature_extraction.text import CountVectorizer\n",
        "cv=CountVectorizer(max_features=5000,ngram_range=(1,1)) #(옵션) 빈도순으로 정렬해서 가장 많이 나온 단어 1000단어까지를 TDM에 포함시킨다.\n",
        "tdm=cv.fit_transform(reviews_df.content) # 단어 문서 행렬 생성, cv.fit_transform()안에 분석할 단어 문서 행렬을 넣어주면 됨. fit은 분석하고자 하는 데이터에 맞게 transform 변환을 하는데 dtm 방식으로 변환함.\n",
        "word_count_tf=pd.DataFrame({'단어':cv.get_feature_names_out(),'빈도': tdm.sum(axis=0).flat}) #tdm.sum(axis=0)가 행렬형태이기때문에 flat으로 바꿔줌.\n",
        "word_count_tf=word_count_tf.sort_values('빈도', ascending=False) #단어를 빈도를 기준으로 정렬함\n",
        "word_count_tf=word_count_tf.reset_index(drop=True)\n",
        "word_count_tf.index=word_count_tf.index+1\n",
        "word_count_tf.to_csv(f'/content/빈도.csv',encoding='cp949') #csv 파일로 저장하기\n",
        "\n"
      ],
      "metadata": {
        "id": "zbN79kLpBZHq"
      },
      "execution_count": null,
      "outputs": []
    },
    {
      "cell_type": "code",
      "source": [
        "from wordcloud import WordCloud\n",
        "import urllib.request\n",
        "font_path = 'malgun.ttf'\n",
        "font_url = 'https://github.com/leejin-kyu/logistic_sentiment/raw/main/malgun.ttf'\n",
        "urllib.request.urlretrieve(font_url, font_path)  #  파일 다운로드\n",
        "wc = WordCloud(background_color='white', max_words=100, width=500, height=500, font_path=font_path)\n",
        "count_dic = dict(zip(word_count_tf['단어'], word_count_tf['빈도']))\n",
        "cloud = wc.fit_words(count_dic)\n",
        "cloud.to_image()"
      ],
      "metadata": {
        "id": "vEA498qQCOjz"
      },
      "execution_count": null,
      "outputs": []
    }
  ]
}